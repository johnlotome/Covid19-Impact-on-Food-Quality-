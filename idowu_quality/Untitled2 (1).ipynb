{
 "cells": [
  {
   "cell_type": "code",
   "execution_count": 299,
   "metadata": {},
   "outputs": [],
   "source": [
    "import pandas as pd\n",
    "import numpy as np\n",
    "import sklearn \n",
    "from sklearn.metrics import multilabel_confusion_matrix,classification_report\n"
   ]
  },
  {
   "cell_type": "code",
   "execution_count": 248,
   "metadata": {},
   "outputs": [],
   "source": [
    "senti_csv = pd.read_csv(\"sentiment_csv.csv\")\n",
    "ibm_csv = pd.read_csv(\"IBM.csv\")"
   ]
  },
  {
   "cell_type": "code",
   "execution_count": 249,
   "metadata": {},
   "outputs": [
    {
     "data": {
      "text/plain": [
       "array([ 1., -1., nan,  0.])"
      ]
     },
     "execution_count": 249,
     "metadata": {},
     "output_type": "execute_result"
    }
   ],
   "source": [
    "senti_csv['real_score'].unique()"
   ]
  },
  {
   "cell_type": "code",
   "execution_count": 250,
   "metadata": {
    "scrolled": true
   },
   "outputs": [
    {
     "data": {
      "text/html": [
       "<div>\n",
       "<style scoped>\n",
       "    .dataframe tbody tr th:only-of-type {\n",
       "        vertical-align: middle;\n",
       "    }\n",
       "\n",
       "    .dataframe tbody tr th {\n",
       "        vertical-align: top;\n",
       "    }\n",
       "\n",
       "    .dataframe thead th {\n",
       "        text-align: right;\n",
       "    }\n",
       "</style>\n",
       "<table border=\"1\" class=\"dataframe\">\n",
       "  <thead>\n",
       "    <tr style=\"text-align: right;\">\n",
       "      <th></th>\n",
       "      <th>user</th>\n",
       "      <th>time</th>\n",
       "      <th>text</th>\n",
       "      <th>favourite_count</th>\n",
       "      <th>retweet_count</th>\n",
       "      <th>lang</th>\n",
       "      <th>description</th>\n",
       "      <th>country</th>\n",
       "      <th>tweet_type</th>\n",
       "      <th>user_type</th>\n",
       "      <th>ibm_score</th>\n",
       "    </tr>\n",
       "  </thead>\n",
       "  <tbody>\n",
       "    <tr>\n",
       "      <th>0</th>\n",
       "      <td>Vanprobsolution</td>\n",
       "      <td>10/5/2020 20:51</td>\n",
       "      <td>rt : in as much as you eat daily, it becomes m...</td>\n",
       "      <td>0</td>\n",
       "      <td>3</td>\n",
       "      <td>en</td>\n",
       "      <td>New Technology Products for #Food #Pharma #Ret...</td>\n",
       "      <td>NG</td>\n",
       "      <td>RT</td>\n",
       "      <td>o</td>\n",
       "      <td>0.385358</td>\n",
       "    </tr>\n",
       "    <tr>\n",
       "      <th>1</th>\n",
       "      <td>Vanprobsolution</td>\n",
       "      <td>10/5/2020 20:50</td>\n",
       "      <td>rt : thank you, , for sharing how our new entr...</td>\n",
       "      <td>0</td>\n",
       "      <td>1</td>\n",
       "      <td>en</td>\n",
       "      <td>New Technology Products for #Food #Pharma #Ret...</td>\n",
       "      <td>NG</td>\n",
       "      <td>RT</td>\n",
       "      <td>o</td>\n",
       "      <td>0.991698</td>\n",
       "    </tr>\n",
       "    <tr>\n",
       "      <th>2</th>\n",
       "      <td>Vanprobsolution</td>\n",
       "      <td>10/5/2020 19:51</td>\n",
       "      <td>rt : food safety culture starts with the hirin...</td>\n",
       "      <td>0</td>\n",
       "      <td>1</td>\n",
       "      <td>en</td>\n",
       "      <td>New Technology Products for #Food #Pharma #Ret...</td>\n",
       "      <td>NG</td>\n",
       "      <td>RT</td>\n",
       "      <td>o</td>\n",
       "      <td>0.000000</td>\n",
       "    </tr>\n",
       "    <tr>\n",
       "      <th>3</th>\n",
       "      <td>Vanprobsolution</td>\n",
       "      <td>10/5/2020 19:50</td>\n",
       "      <td>rt : adulteration concerns rise along with cur...</td>\n",
       "      <td>0</td>\n",
       "      <td>2</td>\n",
       "      <td>en</td>\n",
       "      <td>New Technology Products for #Food #Pharma #Ret...</td>\n",
       "      <td>NG</td>\n",
       "      <td>RT</td>\n",
       "      <td>o</td>\n",
       "      <td>0.000000</td>\n",
       "    </tr>\n",
       "    <tr>\n",
       "      <th>4</th>\n",
       "      <td>Vanprobsolution</td>\n",
       "      <td>10/5/2020 16:51</td>\n",
       "      <td>rt : did you know children under five are most...</td>\n",
       "      <td>0</td>\n",
       "      <td>12</td>\n",
       "      <td>en</td>\n",
       "      <td>New Technology Products for #Food #Pharma #Ret...</td>\n",
       "      <td>NG</td>\n",
       "      <td>RT</td>\n",
       "      <td>o</td>\n",
       "      <td>-0.834673</td>\n",
       "    </tr>\n",
       "  </tbody>\n",
       "</table>\n",
       "</div>"
      ],
      "text/plain": [
       "              user             time  \\\n",
       "0  Vanprobsolution  10/5/2020 20:51   \n",
       "1  Vanprobsolution  10/5/2020 20:50   \n",
       "2  Vanprobsolution  10/5/2020 19:51   \n",
       "3  Vanprobsolution  10/5/2020 19:50   \n",
       "4  Vanprobsolution  10/5/2020 16:51   \n",
       "\n",
       "                                                text  favourite_count  \\\n",
       "0  rt : in as much as you eat daily, it becomes m...                0   \n",
       "1  rt : thank you, , for sharing how our new entr...                0   \n",
       "2  rt : food safety culture starts with the hirin...                0   \n",
       "3  rt : adulteration concerns rise along with cur...                0   \n",
       "4  rt : did you know children under five are most...                0   \n",
       "\n",
       "   retweet_count lang                                        description  \\\n",
       "0              3   en  New Technology Products for #Food #Pharma #Ret...   \n",
       "1              1   en  New Technology Products for #Food #Pharma #Ret...   \n",
       "2              1   en  New Technology Products for #Food #Pharma #Ret...   \n",
       "3              2   en  New Technology Products for #Food #Pharma #Ret...   \n",
       "4             12   en  New Technology Products for #Food #Pharma #Ret...   \n",
       "\n",
       "  country tweet_type user_type  ibm_score  \n",
       "0      NG         RT         o   0.385358  \n",
       "1      NG         RT         o   0.991698  \n",
       "2      NG         RT         o   0.000000  \n",
       "3      NG         RT         o   0.000000  \n",
       "4      NG         RT         o  -0.834673  "
      ]
     },
     "execution_count": 250,
     "metadata": {},
     "output_type": "execute_result"
    }
   ],
   "source": [
    "ibm_csv.head()"
   ]
  },
  {
   "cell_type": "code",
   "execution_count": 279,
   "metadata": {},
   "outputs": [
    {
     "data": {
      "text/plain": [
       "True"
      ]
     },
     "execution_count": 279,
     "metadata": {},
     "output_type": "execute_result"
    }
   ],
   "source": [
    "round(-0.99,2) < 0"
   ]
  },
  {
   "cell_type": "code",
   "execution_count": 227,
   "metadata": {},
   "outputs": [],
   "source": [
    "def polarity_score(x):\n",
    "    if round(x,2) ==0.0:\n",
    "        return 2\n",
    "    elif round(x,2) >0:\n",
    "        return 3\n",
    "    elif round(x,2)<0:\n",
    "        return 1"
   ]
  },
  {
   "cell_type": "code",
   "execution_count": 280,
   "metadata": {},
   "outputs": [],
   "source": [
    "ibm_csv[\"ibm_polarity_score\"]=ibm_csv['ibm_score'].apply(polarity_score)"
   ]
  },
  {
   "cell_type": "code",
   "execution_count": 281,
   "metadata": {},
   "outputs": [
    {
     "data": {
      "text/plain": [
       "array([3, 2, 1])"
      ]
     },
     "execution_count": 281,
     "metadata": {},
     "output_type": "execute_result"
    }
   ],
   "source": [
    "ibm_csv['ibm_polarity_score'].unique()"
   ]
  },
  {
   "cell_type": "code",
   "execution_count": 283,
   "metadata": {},
   "outputs": [],
   "source": [
    "senti_csv[\"vander_polarity_score\"] =senti_csv[\"vader_score\"].apply(polarity_score)"
   ]
  },
  {
   "cell_type": "code",
   "execution_count": 284,
   "metadata": {},
   "outputs": [],
   "source": [
    "senti_csv['textblob_polarity_score'] = senti_csv[\"textblob\"].apply(polarity_score)"
   ]
  },
  {
   "cell_type": "code",
   "execution_count": 286,
   "metadata": {},
   "outputs": [],
   "source": [
    "senti_csv[\"real_score\"] = senti_csv[\"real_score\"].apply(lambda x:round(x,1))"
   ]
  },
  {
   "cell_type": "code",
   "execution_count": 287,
   "metadata": {},
   "outputs": [
    {
     "data": {
      "text/plain": [
       "array([ 3.,  1., nan,  2.])"
      ]
     },
     "execution_count": 287,
     "metadata": {},
     "output_type": "execute_result"
    }
   ],
   "source": [
    "senti_csv['real_score'].unique()"
   ]
  },
  {
   "cell_type": "code",
   "execution_count": 288,
   "metadata": {},
   "outputs": [
    {
     "data": {
      "text/plain": [
       "5483"
      ]
     },
     "execution_count": 288,
     "metadata": {},
     "output_type": "execute_result"
    }
   ],
   "source": [
    "senti_csv['real_score'].isnull().sum()"
   ]
  },
  {
   "cell_type": "code",
   "execution_count": 265,
   "metadata": {},
   "outputs": [],
   "source": [
    "def hello(x):\n",
    "    if x ==1.0:\n",
    "        return 3\n",
    "    elif x ==0.0:\n",
    "        return 2\n",
    "    elif x <0.0:\n",
    "        return 1\n",
    "    else:\n",
    "        return np.nan"
   ]
  },
  {
   "cell_type": "code",
   "execution_count": 266,
   "metadata": {},
   "outputs": [],
   "source": [
    "senti_csv['real_score'] = senti_csv[\"real_score\"].apply(hello)"
   ]
  },
  {
   "cell_type": "code",
   "execution_count": 268,
   "metadata": {},
   "outputs": [
    {
     "data": {
      "text/plain": [
       "array([ 3.,  1., nan,  2.])"
      ]
     },
     "execution_count": 268,
     "metadata": {},
     "output_type": "execute_result"
    }
   ],
   "source": [
    "senti_csv['real_score'].unique()"
   ]
  },
  {
   "cell_type": "code",
   "execution_count": 289,
   "metadata": {},
   "outputs": [],
   "source": [
    "joined = ibm_csv.loc[:,[\"user\",'ibm_polarity_score']]"
   ]
  },
  {
   "cell_type": "code",
   "execution_count": 290,
   "metadata": {},
   "outputs": [
    {
     "data": {
      "text/plain": [
       "5531"
      ]
     },
     "execution_count": 290,
     "metadata": {},
     "output_type": "execute_result"
    }
   ],
   "source": [
    "len(joined)"
   ]
  },
  {
   "cell_type": "code",
   "execution_count": 291,
   "metadata": {},
   "outputs": [],
   "source": [
    "joined_csv = pd.concat([senti_csv,joined],axis=1)"
   ]
  },
  {
   "cell_type": "code",
   "execution_count": 292,
   "metadata": {},
   "outputs": [
    {
     "data": {
      "text/plain": [
       "5531"
      ]
     },
     "execution_count": 292,
     "metadata": {},
     "output_type": "execute_result"
    }
   ],
   "source": [
    "len(joined_csv)"
   ]
  },
  {
   "cell_type": "code",
   "execution_count": 273,
   "metadata": {},
   "outputs": [
    {
     "data": {
      "text/html": [
       "<div>\n",
       "<style scoped>\n",
       "    .dataframe tbody tr th:only-of-type {\n",
       "        vertical-align: middle;\n",
       "    }\n",
       "\n",
       "    .dataframe tbody tr th {\n",
       "        vertical-align: top;\n",
       "    }\n",
       "\n",
       "    .dataframe thead th {\n",
       "        text-align: right;\n",
       "    }\n",
       "</style>\n",
       "<table border=\"1\" class=\"dataframe\">\n",
       "  <thead>\n",
       "    <tr style=\"text-align: right;\">\n",
       "      <th></th>\n",
       "      <th>user</th>\n",
       "      <th>time</th>\n",
       "      <th>text</th>\n",
       "      <th>favourite_count</th>\n",
       "      <th>retweet_count</th>\n",
       "      <th>lang</th>\n",
       "      <th>description</th>\n",
       "      <th>country</th>\n",
       "      <th>tweet_type</th>\n",
       "      <th>user_type</th>\n",
       "      <th>vader_score</th>\n",
       "      <th>textblob</th>\n",
       "      <th>vander_polarity_score</th>\n",
       "      <th>textblob_polarity_score</th>\n",
       "      <th>real_score</th>\n",
       "      <th>user</th>\n",
       "      <th>ibm_polarity_score</th>\n",
       "    </tr>\n",
       "  </thead>\n",
       "  <tbody>\n",
       "    <tr>\n",
       "      <th>0</th>\n",
       "      <td>Vanprobsolution</td>\n",
       "      <td>10/5/2020 20:51</td>\n",
       "      <td>rt : in as much as you eat daily, it becomes m...</td>\n",
       "      <td>0</td>\n",
       "      <td>3</td>\n",
       "      <td>en</td>\n",
       "      <td>New Technology Products for #Food #Pharma #Ret...</td>\n",
       "      <td>NG</td>\n",
       "      <td>RT</td>\n",
       "      <td>o</td>\n",
       "      <td>0.4939</td>\n",
       "      <td>0.233333</td>\n",
       "      <td>3</td>\n",
       "      <td>3</td>\n",
       "      <td>3.0</td>\n",
       "      <td>Vanprobsolution</td>\n",
       "      <td>3</td>\n",
       "    </tr>\n",
       "    <tr>\n",
       "      <th>1</th>\n",
       "      <td>Vanprobsolution</td>\n",
       "      <td>10/5/2020 20:50</td>\n",
       "      <td>rt : thank you, , for sharing how our new entr...</td>\n",
       "      <td>0</td>\n",
       "      <td>1</td>\n",
       "      <td>en</td>\n",
       "      <td>New Technology Products for #Food #Pharma #Ret...</td>\n",
       "      <td>NG</td>\n",
       "      <td>RT</td>\n",
       "      <td>o</td>\n",
       "      <td>0.8834</td>\n",
       "      <td>0.568182</td>\n",
       "      <td>3</td>\n",
       "      <td>3</td>\n",
       "      <td>3.0</td>\n",
       "      <td>Vanprobsolution</td>\n",
       "      <td>3</td>\n",
       "    </tr>\n",
       "    <tr>\n",
       "      <th>2</th>\n",
       "      <td>Vanprobsolution</td>\n",
       "      <td>10/5/2020 19:51</td>\n",
       "      <td>rt : food safety culture starts with the hirin...</td>\n",
       "      <td>0</td>\n",
       "      <td>1</td>\n",
       "      <td>en</td>\n",
       "      <td>New Technology Products for #Food #Pharma #Ret...</td>\n",
       "      <td>NG</td>\n",
       "      <td>RT</td>\n",
       "      <td>o</td>\n",
       "      <td>0.4215</td>\n",
       "      <td>0.000000</td>\n",
       "      <td>3</td>\n",
       "      <td>2</td>\n",
       "      <td>3.0</td>\n",
       "      <td>Vanprobsolution</td>\n",
       "      <td>2</td>\n",
       "    </tr>\n",
       "    <tr>\n",
       "      <th>3</th>\n",
       "      <td>Vanprobsolution</td>\n",
       "      <td>10/5/2020 19:50</td>\n",
       "      <td>rt : adulteration concerns rise along with cur...</td>\n",
       "      <td>0</td>\n",
       "      <td>2</td>\n",
       "      <td>en</td>\n",
       "      <td>New Technology Products for #Food #Pharma #Ret...</td>\n",
       "      <td>NG</td>\n",
       "      <td>RT</td>\n",
       "      <td>o</td>\n",
       "      <td>0.4767</td>\n",
       "      <td>0.000000</td>\n",
       "      <td>3</td>\n",
       "      <td>2</td>\n",
       "      <td>1.0</td>\n",
       "      <td>Vanprobsolution</td>\n",
       "      <td>2</td>\n",
       "    </tr>\n",
       "    <tr>\n",
       "      <th>4</th>\n",
       "      <td>Vanprobsolution</td>\n",
       "      <td>10/5/2020 16:51</td>\n",
       "      <td>rt : did you know children under five are most...</td>\n",
       "      <td>0</td>\n",
       "      <td>12</td>\n",
       "      <td>en</td>\n",
       "      <td>New Technology Products for #Food #Pharma #Ret...</td>\n",
       "      <td>NG</td>\n",
       "      <td>RT</td>\n",
       "      <td>o</td>\n",
       "      <td>-0.4005</td>\n",
       "      <td>-0.041667</td>\n",
       "      <td>1</td>\n",
       "      <td>1</td>\n",
       "      <td>1.0</td>\n",
       "      <td>Vanprobsolution</td>\n",
       "      <td>1</td>\n",
       "    </tr>\n",
       "  </tbody>\n",
       "</table>\n",
       "</div>"
      ],
      "text/plain": [
       "              user             time  \\\n",
       "0  Vanprobsolution  10/5/2020 20:51   \n",
       "1  Vanprobsolution  10/5/2020 20:50   \n",
       "2  Vanprobsolution  10/5/2020 19:51   \n",
       "3  Vanprobsolution  10/5/2020 19:50   \n",
       "4  Vanprobsolution  10/5/2020 16:51   \n",
       "\n",
       "                                                text  favourite_count  \\\n",
       "0  rt : in as much as you eat daily, it becomes m...                0   \n",
       "1  rt : thank you, , for sharing how our new entr...                0   \n",
       "2  rt : food safety culture starts with the hirin...                0   \n",
       "3  rt : adulteration concerns rise along with cur...                0   \n",
       "4  rt : did you know children under five are most...                0   \n",
       "\n",
       "   retweet_count lang                                        description  \\\n",
       "0              3   en  New Technology Products for #Food #Pharma #Ret...   \n",
       "1              1   en  New Technology Products for #Food #Pharma #Ret...   \n",
       "2              1   en  New Technology Products for #Food #Pharma #Ret...   \n",
       "3              2   en  New Technology Products for #Food #Pharma #Ret...   \n",
       "4             12   en  New Technology Products for #Food #Pharma #Ret...   \n",
       "\n",
       "  country tweet_type user_type  vader_score  textblob  vander_polarity_score  \\\n",
       "0      NG         RT         o       0.4939  0.233333                      3   \n",
       "1      NG         RT         o       0.8834  0.568182                      3   \n",
       "2      NG         RT         o       0.4215  0.000000                      3   \n",
       "3      NG         RT         o       0.4767  0.000000                      3   \n",
       "4      NG         RT         o      -0.4005 -0.041667                      1   \n",
       "\n",
       "   textblob_polarity_score  real_score             user  ibm_polarity_score  \n",
       "0                        3         3.0  Vanprobsolution                   3  \n",
       "1                        3         3.0  Vanprobsolution                   3  \n",
       "2                        2         3.0  Vanprobsolution                   2  \n",
       "3                        2         1.0  Vanprobsolution                   2  \n",
       "4                        1         1.0  Vanprobsolution                   1  "
      ]
     },
     "execution_count": 273,
     "metadata": {},
     "output_type": "execute_result"
    }
   ],
   "source": [
    "joined_csv.head()"
   ]
  },
  {
   "cell_type": "code",
   "execution_count": 15,
   "metadata": {},
   "outputs": [],
   "source": []
  },
  {
   "cell_type": "code",
   "execution_count": 274,
   "metadata": {
    "scrolled": true
   },
   "outputs": [
    {
     "data": {
      "text/plain": [
       "5531"
      ]
     },
     "execution_count": 274,
     "metadata": {},
     "output_type": "execute_result"
    }
   ],
   "source": [
    "len(joined_csv)"
   ]
  },
  {
   "cell_type": "code",
   "execution_count": 293,
   "metadata": {},
   "outputs": [],
   "source": [
    "another_df = joined_csv.copy()\n",
    "#another_df[\"real_empty\"] = another_df['real_score'].apply(lambda x: x if type(x)==int  else np.nan)"
   ]
  },
  {
   "cell_type": "code",
   "execution_count": 298,
   "metadata": {},
   "outputs": [
    {
     "data": {
      "text/plain": [
       "user                       0\n",
       "time                       0\n",
       "text                       0\n",
       "favourite_count            0\n",
       "retweet_count              0\n",
       "lang                       0\n",
       "description                0\n",
       "country                    0\n",
       "tweet_type                 0\n",
       "user_type                  0\n",
       "vader_score                0\n",
       "textblob                   0\n",
       "vander_polarity_score      0\n",
       "textblob_polarity_score    0\n",
       "real_score                 0\n",
       "user                       0\n",
       "ibm_polarity_score         0\n",
       "dtype: int64"
      ]
     },
     "execution_count": 298,
     "metadata": {},
     "output_type": "execute_result"
    }
   ],
   "source": [
    "another_df.isnull().sum()"
   ]
  },
  {
   "cell_type": "code",
   "execution_count": 295,
   "metadata": {},
   "outputs": [],
   "source": [
    "another_df.dropna(subset=[\"real_score\"],inplace=True)"
   ]
  },
  {
   "cell_type": "code",
   "execution_count": 297,
   "metadata": {},
   "outputs": [],
   "source": [
    "another_df[\"real_score\"] = another_df[\"real_score\"].astype(np.int)"
   ]
  },
  {
   "cell_type": "code",
   "execution_count": 109,
   "metadata": {},
   "outputs": [
    {
     "data": {
      "text/plain": [
       "int"
      ]
     },
     "execution_count": 109,
     "metadata": {},
     "output_type": "execute_result"
    }
   ],
   "source": [
    "another_df"
   ]
  },
  {
   "cell_type": "code",
   "execution_count": 149,
   "metadata": {},
   "outputs": [],
   "source": [
    "another_df['real_score'] = another_df[\"real_score\"].apply(lambda x: int(x))"
   ]
  },
  {
   "cell_type": "code",
   "execution_count": 115,
   "metadata": {},
   "outputs": [
    {
     "data": {
      "text/plain": [
       "int"
      ]
     },
     "execution_count": 115,
     "metadata": {},
     "output_type": "execute_result"
    }
   ],
   "source": [
    "type(-1)"
   ]
  },
  {
   "cell_type": "code",
   "execution_count": 116,
   "metadata": {},
   "outputs": [
    {
     "data": {
      "text/plain": [
       "array([ 1, -1])"
      ]
     },
     "execution_count": 116,
     "metadata": {},
     "output_type": "execute_result"
    }
   ],
   "source": [
    "another_df['real_score'].unique()"
   ]
  },
  {
   "cell_type": "code",
   "execution_count": 156,
   "metadata": {},
   "outputs": [],
   "source": [
    "another_df=another_df.reset_index(dbrop=True)"
   ]
  },
  {
   "cell_type": "code",
   "execution_count": null,
   "metadata": {},
   "outputs": [],
   "source": []
  },
  {
   "cell_type": "code",
   "execution_count": 306,
   "metadata": {},
   "outputs": [],
   "source": [
    "def class_report(senti,real_score):\n",
    "    for i in senti:\n",
    "        print(\"***********classification report for {}****************\".format(i))\n",
    "        print()\n",
    "        print(classification_report(list(another_df[real_score]),list(another_df[i]),labels=[3,2,1]))\n",
    "        print('*********************************************************')\n",
    "        print()\n",
    "    "
   ]
  },
  {
   "cell_type": "code",
   "execution_count": 159,
   "metadata": {},
   "outputs": [
    {
     "data": {
      "text/html": [
       "<div>\n",
       "<style scoped>\n",
       "    .dataframe tbody tr th:only-of-type {\n",
       "        vertical-align: middle;\n",
       "    }\n",
       "\n",
       "    .dataframe tbody tr th {\n",
       "        vertical-align: top;\n",
       "    }\n",
       "\n",
       "    .dataframe thead th {\n",
       "        text-align: right;\n",
       "    }\n",
       "</style>\n",
       "<table border=\"1\" class=\"dataframe\">\n",
       "  <thead>\n",
       "    <tr style=\"text-align: right;\">\n",
       "      <th></th>\n",
       "      <th>user</th>\n",
       "      <th>time</th>\n",
       "      <th>text</th>\n",
       "      <th>favourite_count</th>\n",
       "      <th>retweet_count</th>\n",
       "      <th>lang</th>\n",
       "      <th>description</th>\n",
       "      <th>country</th>\n",
       "      <th>tweet_type</th>\n",
       "      <th>user_type</th>\n",
       "      <th>vader_score</th>\n",
       "      <th>textblob</th>\n",
       "      <th>vander_polarity_score</th>\n",
       "      <th>textblob_polarity_score</th>\n",
       "      <th>real_score</th>\n",
       "      <th>user</th>\n",
       "      <th>ibm_polarity_score</th>\n",
       "    </tr>\n",
       "  </thead>\n",
       "  <tbody>\n",
       "    <tr>\n",
       "      <th>0</th>\n",
       "      <td>Vanprobsolution</td>\n",
       "      <td>10/5/2020 20:51</td>\n",
       "      <td>rt : in as much as you eat daily, it becomes m...</td>\n",
       "      <td>0</td>\n",
       "      <td>3</td>\n",
       "      <td>en</td>\n",
       "      <td>New Technology Products for #Food #Pharma #Ret...</td>\n",
       "      <td>NG</td>\n",
       "      <td>RT</td>\n",
       "      <td>o</td>\n",
       "      <td>0.4939</td>\n",
       "      <td>0.233333</td>\n",
       "      <td>1</td>\n",
       "      <td>1</td>\n",
       "      <td>1</td>\n",
       "      <td>Vanprobsolution</td>\n",
       "      <td>1</td>\n",
       "    </tr>\n",
       "    <tr>\n",
       "      <th>1</th>\n",
       "      <td>Vanprobsolution</td>\n",
       "      <td>10/5/2020 20:50</td>\n",
       "      <td>rt : thank you, , for sharing how our new entr...</td>\n",
       "      <td>0</td>\n",
       "      <td>1</td>\n",
       "      <td>en</td>\n",
       "      <td>New Technology Products for #Food #Pharma #Ret...</td>\n",
       "      <td>NG</td>\n",
       "      <td>RT</td>\n",
       "      <td>o</td>\n",
       "      <td>0.8834</td>\n",
       "      <td>0.568182</td>\n",
       "      <td>1</td>\n",
       "      <td>1</td>\n",
       "      <td>1</td>\n",
       "      <td>Vanprobsolution</td>\n",
       "      <td>1</td>\n",
       "    </tr>\n",
       "  </tbody>\n",
       "</table>\n",
       "</div>"
      ],
      "text/plain": [
       "              user             time  \\\n",
       "0  Vanprobsolution  10/5/2020 20:51   \n",
       "1  Vanprobsolution  10/5/2020 20:50   \n",
       "\n",
       "                                                text  favourite_count  \\\n",
       "0  rt : in as much as you eat daily, it becomes m...                0   \n",
       "1  rt : thank you, , for sharing how our new entr...                0   \n",
       "\n",
       "   retweet_count lang                                        description  \\\n",
       "0              3   en  New Technology Products for #Food #Pharma #Ret...   \n",
       "1              1   en  New Technology Products for #Food #Pharma #Ret...   \n",
       "\n",
       "  country tweet_type user_type  vader_score  textblob  vander_polarity_score  \\\n",
       "0      NG         RT         o       0.4939  0.233333                      1   \n",
       "1      NG         RT         o       0.8834  0.568182                      1   \n",
       "\n",
       "   textblob_polarity_score  real_score             user  ibm_polarity_score  \n",
       "0                        1           1  Vanprobsolution                   1  \n",
       "1                        1           1  Vanprobsolution                   1  "
      ]
     },
     "execution_count": 159,
     "metadata": {},
     "output_type": "execute_result"
    }
   ],
   "source": [
    "another_df[0:2]"
   ]
  },
  {
   "cell_type": "code",
   "execution_count": 160,
   "metadata": {},
   "outputs": [
    {
     "name": "stdout",
     "output_type": "stream",
     "text": [
      "0     1\n",
      "1     1\n",
      "2     1\n",
      "3    -1\n",
      "4    -1\n",
      "5     1\n",
      "6     1\n",
      "7     0\n",
      "8    -1\n",
      "9     0\n",
      "10    0\n",
      "11    0\n",
      "12    1\n",
      "13    0\n",
      "14    1\n",
      "15    1\n",
      "16   -1\n",
      "17    1\n",
      "18   -1\n",
      "19    1\n",
      "20   -1\n",
      "21   -1\n",
      "22    1\n",
      "23    1\n",
      "24    0\n",
      "25   -1\n",
      "26    0\n",
      "27    0\n",
      "28   -1\n",
      "29    1\n",
      "30    1\n",
      "31   -1\n",
      "32   -1\n",
      "33    1\n",
      "34   -1\n",
      "35   -1\n",
      "36    1\n",
      "37   -1\n",
      "38    0\n",
      "39    1\n",
      "40    1\n",
      "41    1\n",
      "42   -1\n",
      "43   -1\n",
      "44   -1\n",
      "45   -1\n",
      "46   -1\n",
      "47   -1\n",
      "Name: real_score, dtype: int64\n"
     ]
    }
   ],
   "source": [
    "print(another_df[\"real_score\"])"
   ]
  },
  {
   "cell_type": "code",
   "execution_count": 161,
   "metadata": {},
   "outputs": [
    {
     "name": "stdout",
     "output_type": "stream",
     "text": [
      "0     1\n",
      "1     1\n",
      "2     0\n",
      "3     0\n",
      "4    -1\n",
      "5     1\n",
      "6     0\n",
      "7     1\n",
      "8     1\n",
      "9    -1\n",
      "10    0\n",
      "11    1\n",
      "12    1\n",
      "13    1\n",
      "14    1\n",
      "15    0\n",
      "16   -1\n",
      "17    1\n",
      "18    1\n",
      "19    0\n",
      "20   -1\n",
      "21    1\n",
      "22   -1\n",
      "23    1\n",
      "24    0\n",
      "25    0\n",
      "26    0\n",
      "27    0\n",
      "28   -1\n",
      "29    1\n",
      "30    1\n",
      "31    1\n",
      "32   -1\n",
      "33    1\n",
      "34   -1\n",
      "35   -1\n",
      "36    0\n",
      "37   -1\n",
      "38   -1\n",
      "39    1\n",
      "40    1\n",
      "41    1\n",
      "42   -1\n",
      "43   -1\n",
      "44   -1\n",
      "45   -1\n",
      "46   -1\n",
      "47   -1\n",
      "Name: ibm_polarity_score, dtype: int64\n"
     ]
    }
   ],
   "source": [
    "print(another_df[\"ibm_polarity_score\"])"
   ]
  },
  {
   "cell_type": "code",
   "execution_count": 80,
   "metadata": {},
   "outputs": [
    {
     "name": "stdout",
     "output_type": "stream",
     "text": [
      "user                       0\n",
      "time                       0\n",
      "text                       0\n",
      "favourite_count            0\n",
      "retweet_count              0\n",
      "lang                       0\n",
      "description                0\n",
      "country                    0\n",
      "tweet_type                 0\n",
      "user_type                  0\n",
      "vader_score                0\n",
      "textblob                   0\n",
      "vander_polarity_score      0\n",
      "textblob_polarity_score    0\n",
      "real_score                 0\n",
      "user                       0\n",
      "ibm_polarity_score         0\n",
      "real_empty                 0\n",
      "dtype: int64\n"
     ]
    }
   ],
   "source": [
    "print(another_df.isnull().sum())"
   ]
  },
  {
   "cell_type": "code",
   "execution_count": 158,
   "metadata": {},
   "outputs": [
    {
     "name": "stdout",
     "output_type": "stream",
     "text": [
      "48\n",
      "48\n"
     ]
    }
   ],
   "source": [
    "print(len(another_df['real_score']))\n",
    "print(len(another_df[\"ibm_polarity_score\"]))"
   ]
  },
  {
   "cell_type": "code",
   "execution_count": 307,
   "metadata": {},
   "outputs": [
    {
     "name": "stdout",
     "output_type": "stream",
     "text": [
      "***********classification report for ibm_polarity_score****************\n",
      "\n",
      "              precision    recall  f1-score   support\n",
      "\n",
      "           3       0.65      0.68      0.67        19\n",
      "           2       0.36      0.44      0.40         9\n",
      "           1       0.82      0.70      0.76        20\n",
      "\n",
      "    accuracy                           0.65        48\n",
      "   macro avg       0.61      0.61      0.61        48\n",
      "weighted avg       0.67      0.65      0.65        48\n",
      "\n",
      "*********************************************************\n",
      "\n",
      "***********classification report for vander_polarity_score****************\n",
      "\n",
      "              precision    recall  f1-score   support\n",
      "\n",
      "           3       0.51      0.95      0.67        19\n",
      "           2       0.50      0.22      0.31         9\n",
      "           1       1.00      0.45      0.62        20\n",
      "\n",
      "    accuracy                           0.60        48\n",
      "   macro avg       0.67      0.54      0.53        48\n",
      "weighted avg       0.71      0.60      0.58        48\n",
      "\n",
      "*********************************************************\n",
      "\n",
      "***********classification report for textblob_polarity_score****************\n",
      "\n",
      "              precision    recall  f1-score   support\n",
      "\n",
      "           3       0.52      0.63      0.57        19\n",
      "           2       0.28      0.56      0.37         9\n",
      "           1       0.86      0.30      0.44        20\n",
      "\n",
      "    accuracy                           0.48        48\n",
      "   macro avg       0.55      0.50      0.46        48\n",
      "weighted avg       0.62      0.48      0.48        48\n",
      "\n",
      "*********************************************************\n",
      "\n"
     ]
    }
   ],
   "source": [
    "class_report(senti=[\"ibm_polarity_score\",\"vander_polarity_score\",\"textblob_polarity_score\"],real_score=\"real_score\")"
   ]
  },
  {
   "cell_type": "code",
   "execution_count": null,
   "metadata": {},
   "outputs": [],
   "source": []
  }
 ],
 "metadata": {
  "kernelspec": {
   "display_name": "Python 3",
   "language": "python",
   "name": "python3"
  },
  "language_info": {
   "codemirror_mode": {
    "name": "ipython",
    "version": 3
   },
   "file_extension": ".py",
   "mimetype": "text/x-python",
   "name": "python",
   "nbconvert_exporter": "python",
   "pygments_lexer": "ipython3",
   "version": "3.8.3"
  }
 },
 "nbformat": 4,
 "nbformat_minor": 4
}
