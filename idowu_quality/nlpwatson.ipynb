{
  "nbformat": 4,
  "nbformat_minor": 0,
  "metadata": {
    "colab": {
      "name": "nlpwatson.ipynb",
      "provenance": [],
      "collapsed_sections": []
    },
    "kernelspec": {
      "name": "python3",
      "display_name": "Python 3"
    },
    "accelerator": "GPU"
  },
  "cells": [
    {
      "cell_type": "code",
      "metadata": {
        "id": "ObyADqC5CCtP",
        "outputId": "9006a3ad-a056-433c-a97f-c39ad09ad8b0",
        "colab": {
          "base_uri": "https://localhost:8080/",
          "height": 485
        }
      },
      "source": [
        "pip install --upgrade ibm-watson"
      ],
      "execution_count": 1,
      "outputs": [
        {
          "output_type": "stream",
          "text": [
            "Collecting ibm-watson\n",
            "\u001b[?25l  Downloading https://files.pythonhosted.org/packages/a2/3c/c2cfb41db546fe98820e89017c892d73991cef61b9c48680191fe703a214/ibm-watson-4.7.1.tar.gz (385kB)\n",
            "\r\u001b[K     |▉                               | 10kB 7.0MB/s eta 0:00:01\r\u001b[K     |█▊                              | 20kB 1.7MB/s eta 0:00:01\r\u001b[K     |██▌                             | 30kB 2.2MB/s eta 0:00:01\r\u001b[K     |███▍                            | 40kB 2.4MB/s eta 0:00:01\r\u001b[K     |████▎                           | 51kB 2.0MB/s eta 0:00:01\r\u001b[K     |█████                           | 61kB 2.2MB/s eta 0:00:01\r\u001b[K     |██████                          | 71kB 2.5MB/s eta 0:00:01\r\u001b[K     |██████▉                         | 81kB 2.7MB/s eta 0:00:01\r\u001b[K     |███████▋                        | 92kB 2.9MB/s eta 0:00:01\r\u001b[K     |████████▌                       | 102kB 2.8MB/s eta 0:00:01\r\u001b[K     |█████████▍                      | 112kB 2.8MB/s eta 0:00:01\r\u001b[K     |██████████▏                     | 122kB 2.8MB/s eta 0:00:01\r\u001b[K     |███████████                     | 133kB 2.8MB/s eta 0:00:01\r\u001b[K     |████████████                    | 143kB 2.8MB/s eta 0:00:01\r\u001b[K     |████████████▊                   | 153kB 2.8MB/s eta 0:00:01\r\u001b[K     |█████████████▋                  | 163kB 2.8MB/s eta 0:00:01\r\u001b[K     |██████████████▌                 | 174kB 2.8MB/s eta 0:00:01\r\u001b[K     |███████████████▎                | 184kB 2.8MB/s eta 0:00:01\r\u001b[K     |████████████████▏               | 194kB 2.8MB/s eta 0:00:01\r\u001b[K     |█████████████████               | 204kB 2.8MB/s eta 0:00:01\r\u001b[K     |█████████████████▉              | 215kB 2.8MB/s eta 0:00:01\r\u001b[K     |██████████████████▊             | 225kB 2.8MB/s eta 0:00:01\r\u001b[K     |███████████████████▋            | 235kB 2.8MB/s eta 0:00:01\r\u001b[K     |████████████████████▍           | 245kB 2.8MB/s eta 0:00:01\r\u001b[K     |█████████████████████▎          | 256kB 2.8MB/s eta 0:00:01\r\u001b[K     |██████████████████████▏         | 266kB 2.8MB/s eta 0:00:01\r\u001b[K     |███████████████████████         | 276kB 2.8MB/s eta 0:00:01\r\u001b[K     |███████████████████████▉        | 286kB 2.8MB/s eta 0:00:01\r\u001b[K     |████████████████████████▋       | 296kB 2.8MB/s eta 0:00:01\r\u001b[K     |█████████████████████████▌      | 307kB 2.8MB/s eta 0:00:01\r\u001b[K     |██████████████████████████▍     | 317kB 2.8MB/s eta 0:00:01\r\u001b[K     |███████████████████████████▏    | 327kB 2.8MB/s eta 0:00:01\r\u001b[K     |████████████████████████████    | 337kB 2.8MB/s eta 0:00:01\r\u001b[K     |█████████████████████████████   | 348kB 2.8MB/s eta 0:00:01\r\u001b[K     |█████████████████████████████▊  | 358kB 2.8MB/s eta 0:00:01\r\u001b[K     |██████████████████████████████▋ | 368kB 2.8MB/s eta 0:00:01\r\u001b[K     |███████████████████████████████▌| 378kB 2.8MB/s eta 0:00:01\r\u001b[K     |████████████████████████████████| 389kB 2.8MB/s \n",
            "\u001b[?25hRequirement already satisfied, skipping upgrade: requests<3.0,>=2.0 in /usr/local/lib/python3.6/dist-packages (from ibm-watson) (2.23.0)\n",
            "Requirement already satisfied, skipping upgrade: python_dateutil>=2.5.3 in /usr/local/lib/python3.6/dist-packages (from ibm-watson) (2.8.1)\n",
            "Collecting websocket-client==0.48.0\n",
            "\u001b[?25l  Downloading https://files.pythonhosted.org/packages/8a/a1/72ef9aa26cfe1a75cee09fc1957e4723add9de098c15719416a1ee89386b/websocket_client-0.48.0-py2.py3-none-any.whl (198kB)\n",
            "\u001b[K     |████████████████████████████████| 204kB 7.7MB/s \n",
            "\u001b[?25hCollecting ibm_cloud_sdk_core==1.7.3\n",
            "  Downloading https://files.pythonhosted.org/packages/b7/23/aa9ae242f6348a1ed28fca2e6d3e76e043c3db951f9b516e1992518fe2c3/ibm-cloud-sdk-core-1.7.3.tar.gz\n",
            "Requirement already satisfied, skipping upgrade: urllib3!=1.25.0,!=1.25.1,<1.26,>=1.21.1 in /usr/local/lib/python3.6/dist-packages (from requests<3.0,>=2.0->ibm-watson) (1.24.3)\n",
            "Requirement already satisfied, skipping upgrade: chardet<4,>=3.0.2 in /usr/local/lib/python3.6/dist-packages (from requests<3.0,>=2.0->ibm-watson) (3.0.4)\n",
            "Requirement already satisfied, skipping upgrade: certifi>=2017.4.17 in /usr/local/lib/python3.6/dist-packages (from requests<3.0,>=2.0->ibm-watson) (2020.6.20)\n",
            "Requirement already satisfied, skipping upgrade: idna<3,>=2.5 in /usr/local/lib/python3.6/dist-packages (from requests<3.0,>=2.0->ibm-watson) (2.10)\n",
            "Requirement already satisfied, skipping upgrade: six>=1.5 in /usr/local/lib/python3.6/dist-packages (from python_dateutil>=2.5.3->ibm-watson) (1.15.0)\n",
            "Collecting PyJWT>=1.7.1\n",
            "  Downloading https://files.pythonhosted.org/packages/87/8b/6a9f14b5f781697e51259d81657e6048fd31a113229cf346880bb7545565/PyJWT-1.7.1-py2.py3-none-any.whl\n",
            "Building wheels for collected packages: ibm-watson, ibm-cloud-sdk-core\n",
            "  Building wheel for ibm-watson (setup.py) ... \u001b[?25l\u001b[?25hdone\n",
            "  Created wheel for ibm-watson: filename=ibm_watson-4.7.1-cp36-none-any.whl size=379133 sha256=5106f813ea58e740cdbd558742ac7b04caf6cc0bc86b41dad2b4ae6419e16ae8\n",
            "  Stored in directory: /root/.cache/pip/wheels/6e/14/69/dbbd573a3bab3bf64984572284f13f174f430038308abdd73c\n",
            "  Building wheel for ibm-cloud-sdk-core (setup.py) ... \u001b[?25l\u001b[?25hdone\n",
            "  Created wheel for ibm-cloud-sdk-core: filename=ibm_cloud_sdk_core-1.7.3-cp36-none-any.whl size=45945 sha256=926f59f1158b2f7c658ad1c4ae01405dfa5f858a2fed8d825cf91fbb4981e903\n",
            "  Stored in directory: /root/.cache/pip/wheels/34/6e/58/589e0f841c2fae9dad99630d78ddc7a60c5c7663a16a39cdbb\n",
            "Successfully built ibm-watson ibm-cloud-sdk-core\n",
            "Installing collected packages: websocket-client, PyJWT, ibm-cloud-sdk-core, ibm-watson\n",
            "Successfully installed PyJWT-1.7.1 ibm-cloud-sdk-core-1.7.3 ibm-watson-4.7.1 websocket-client-0.48.0\n"
          ],
          "name": "stdout"
        }
      ]
    },
    {
      "cell_type": "code",
      "metadata": {
        "id": "x7Q9-jvmIis0",
        "outputId": "edb74dca-f887-489f-a355-334de8fde22d",
        "colab": {
          "base_uri": "https://localhost:8080/",
          "height": 416
        }
      },
      "source": [
        "pip install textblob vaderSentiment watson-developer-cloud"
      ],
      "execution_count": 2,
      "outputs": [
        {
          "output_type": "stream",
          "text": [
            "Requirement already satisfied: textblob in /usr/local/lib/python3.6/dist-packages (0.15.3)\n",
            "Collecting vaderSentiment\n",
            "\u001b[?25l  Downloading https://files.pythonhosted.org/packages/76/fc/310e16254683c1ed35eeb97386986d6c00bc29df17ce280aed64d55537e9/vaderSentiment-3.3.2-py2.py3-none-any.whl (125kB)\n",
            "\u001b[K     |████████████████████████████████| 133kB 2.7MB/s \n",
            "\u001b[?25hCollecting watson-developer-cloud\n",
            "\u001b[?25l  Downloading https://files.pythonhosted.org/packages/fc/a5/a89fc49bd82eb6ea569e45b43383c28cd51b5076f43010dcc3331c137ff5/watson-developer-cloud-2.10.1.tar.gz (248kB)\n",
            "\u001b[K     |████████████████████████████████| 256kB 8.6MB/s \n",
            "\u001b[?25hRequirement already satisfied: nltk>=3.1 in /usr/local/lib/python3.6/dist-packages (from textblob) (3.2.5)\n",
            "Requirement already satisfied: requests in /usr/local/lib/python3.6/dist-packages (from vaderSentiment) (2.23.0)\n",
            "Requirement already satisfied: python_dateutil>=2.5.3 in /usr/local/lib/python3.6/dist-packages (from watson-developer-cloud) (2.8.1)\n",
            "Requirement already satisfied: websocket-client==0.48.0 in /usr/local/lib/python3.6/dist-packages (from watson-developer-cloud) (0.48.0)\n",
            "Requirement already satisfied: six in /usr/local/lib/python3.6/dist-packages (from nltk>=3.1->textblob) (1.15.0)\n",
            "Requirement already satisfied: idna<3,>=2.5 in /usr/local/lib/python3.6/dist-packages (from requests->vaderSentiment) (2.10)\n",
            "Requirement already satisfied: certifi>=2017.4.17 in /usr/local/lib/python3.6/dist-packages (from requests->vaderSentiment) (2020.6.20)\n",
            "Requirement already satisfied: urllib3!=1.25.0,!=1.25.1,<1.26,>=1.21.1 in /usr/local/lib/python3.6/dist-packages (from requests->vaderSentiment) (1.24.3)\n",
            "Requirement already satisfied: chardet<4,>=3.0.2 in /usr/local/lib/python3.6/dist-packages (from requests->vaderSentiment) (3.0.4)\n",
            "Building wheels for collected packages: watson-developer-cloud\n",
            "  Building wheel for watson-developer-cloud (setup.py) ... \u001b[?25l\u001b[?25hdone\n",
            "  Created wheel for watson-developer-cloud: filename=watson_developer_cloud-2.10.1-cp36-none-any.whl size=252814 sha256=828bb2affd1b590ddecc50736b90d3799f4a6d1f2141ce2a642d71e6ab337ced\n",
            "  Stored in directory: /root/.cache/pip/wheels/ea/a7/19/fac0a408a586265eb374005308a7553d4494ab41b2fd88f5bc\n",
            "Successfully built watson-developer-cloud\n",
            "Installing collected packages: vaderSentiment, watson-developer-cloud\n",
            "Successfully installed vaderSentiment-3.3.2 watson-developer-cloud-2.10.1\n"
          ],
          "name": "stdout"
        }
      ]
    },
    {
      "cell_type": "code",
      "metadata": {
        "id": "7JmJW1trMLk4"
      },
      "source": [
        "from ibm_watson import DiscoveryV1\n",
        "from ibm_cloud_sdk_core.authenticators import IAMAuthenticator \n",
        "authenticators = IAMAuthenticator(\"jpRrhH72mpjpTTyEW4HcrnjRnaLcUPP7dvGk2icU8cZN\",url=\"https://iam.cloud.ibm.com/identity/token\")\n",
        "discovery = DiscoveryV1(version=\"2018-08-01\",authenticator=authenticators)\n",
        "discovery.set_service_url(\"https://api.eu-gb.natural-language-understanding.watson.cloud.ibm.com/instances/f26d61bf-45d3-4f9b-a219-a0f760d0ba71\")"
      ],
      "execution_count": 3,
      "outputs": []
    },
    {
      "cell_type": "code",
      "metadata": {
        "id": "drJ49g-PDZcG"
      },
      "source": [
        "import numpy as np \n",
        "import pandas as pd\n",
        "from textblob import TextBlob \n",
        "#from watson_developer_cloud import DiscoveryV1\n",
        "from vaderSentiment.vaderSentiment import SentimentIntensityAnalyzer\n",
        "from ibm_watson.natural_language_understanding_v1 import Features,EntitiesOptions,KeywordsOptions,SentimentOptions,CategoriesOptions\n",
        "from ibm_watson import NaturalLanguageUnderstandingV1"
      ],
      "execution_count": 4,
      "outputs": []
    },
    {
      "cell_type": "code",
      "metadata": {
        "id": "YcqtZ6pzSWA7",
        "outputId": "e357ecb9-1fde-4969-b1b0-89e46201c1e7",
        "colab": {
          "base_uri": "https://localhost:8080/",
          "height": 34
        }
      },
      "source": [
        "total_csv = pd.read_csv(\"/content/drive/My Drive/Data science resources/nlp/total.csv\")\n",
        "len(total_csv)"
      ],
      "execution_count": 5,
      "outputs": [
        {
          "output_type": "execute_result",
          "data": {
            "text/plain": [
              "6486"
            ]
          },
          "metadata": {
            "tags": []
          },
          "execution_count": 5
        }
      ]
    },
    {
      "cell_type": "code",
      "metadata": {
        "id": "2CNG77BvU8UH",
        "outputId": "f517217b-a593-4cc6-f2e1-bcb0d35c1e6f",
        "colab": {
          "base_uri": "https://localhost:8080/",
          "height": 69
        }
      },
      "source": [
        "total_csv.columns"
      ],
      "execution_count": 6,
      "outputs": [
        {
          "output_type": "execute_result",
          "data": {
            "text/plain": [
              "Index(['user', 'time', 'text', 'favourite_count', 'retweet_count', 'lang',\n",
              "       'description', 'country', 'tweet_type', 'user_type'],\n",
              "      dtype='object')"
            ]
          },
          "metadata": {
            "tags": []
          },
          "execution_count": 6
        }
      ]
    },
    {
      "cell_type": "code",
      "metadata": {
        "id": "LES1J1bfUtyz"
      },
      "source": [
        "total_csv = total_csv.drop_duplicates(subset=['text'])"
      ],
      "execution_count": 7,
      "outputs": []
    },
    {
      "cell_type": "code",
      "metadata": {
        "id": "sAXuUzNwVFYG",
        "outputId": "10af5880-fd08-46e4-ee3e-e4a3f8004ee9",
        "colab": {
          "base_uri": "https://localhost:8080/",
          "height": 34
        }
      },
      "source": [
        "len(total_csv)"
      ],
      "execution_count": 8,
      "outputs": [
        {
          "output_type": "execute_result",
          "data": {
            "text/plain": [
              "5532"
            ]
          },
          "metadata": {
            "tags": []
          },
          "execution_count": 8
        }
      ]
    },
    {
      "cell_type": "code",
      "metadata": {
        "id": "GNKP71LEVKpa"
      },
      "source": [
        "import re \n",
        "def remove_unwanted(x):\n",
        "  global re\n",
        "  x = re.sub(r'@[A-Za-z0-9]+','',x)\n",
        "  x = re.sub(r'#','',x)\n",
        "  x = re.sub(r'https?\\/\\/\\s+','',x)\n",
        "  return x"
      ],
      "execution_count": 9,
      "outputs": []
    },
    {
      "cell_type": "code",
      "metadata": {
        "id": "SIGvTpDzXhHN"
      },
      "source": [
        "total_csv['text'] = total_csv['text'].apply(remove_unwanted)"
      ],
      "execution_count": 10,
      "outputs": []
    },
    {
      "cell_type": "code",
      "metadata": {
        "id": "xFPrYWnbYbvW"
      },
      "source": [
        "total_csv.drop_duplicates(subset=['text'],inplace=True)"
      ],
      "execution_count": 11,
      "outputs": []
    },
    {
      "cell_type": "code",
      "metadata": {
        "id": "92QZFgSwYo_z",
        "outputId": "cce24de2-ef76-4a97-b963-ebe89b4e498c",
        "colab": {
          "base_uri": "https://localhost:8080/",
          "height": 34
        }
      },
      "source": [
        "len(total_csv)"
      ],
      "execution_count": 12,
      "outputs": [
        {
          "output_type": "execute_result",
          "data": {
            "text/plain": [
              "5531"
            ]
          },
          "metadata": {
            "tags": []
          },
          "execution_count": 12
        }
      ]
    },
    {
      "cell_type": "code",
      "metadata": {
        "id": "iX5pfjR5er1v"
      },
      "source": [
        "# total_csv[\"text\"]=="
      ],
      "execution_count": 13,
      "outputs": []
    },
    {
      "cell_type": "code",
      "metadata": {
        "id": "9BddBxjVgs6D"
      },
      "source": [
        "# def remove_retweets(x):\n",
        "#   if x[:2]== 'rt':\n",
        "#     return 1 \n",
        "#   else:\n",
        "#     return 0"
      ],
      "execution_count": 14,
      "outputs": []
    },
    {
      "cell_type": "code",
      "metadata": {
        "id": "_bUsTitRg8NI"
      },
      "source": [
        "#total_csv['retweets_text'] = total_csv['text'].apply(remove_retweets)"
      ],
      "execution_count": 16,
      "outputs": []
    },
    {
      "cell_type": "code",
      "metadata": {
        "id": "zqEbroyKhFfr"
      },
      "source": [
        "#total_csv = total_csv.loc[total_csv['tweet_type']!=\"RT\",:]"
      ],
      "execution_count": 19,
      "outputs": []
    },
    {
      "cell_type": "code",
      "metadata": {
        "id": "2pSeDZ-UYtqq"
      },
      "source": [
        "analyser = SentimentIntensityAnalyzer()\n",
        "natural_language_understanding = NaturalLanguageUnderstandingV1(version=\"2018-11-16\",authenticator=authenticators)\n",
        "natural_language_understanding.set_service_url(\"https://api.eu-gb.natural-language-understanding.watson.cloud.ibm.com/instances/f26d61bf-45d3-4f9b-a219-a0f760d0ba71\")\n",
        "#DiscoveryV1(version=\"2018-08-01\",authenticator=authenticators)"
      ],
      "execution_count": 20,
      "outputs": []
    },
    {
      "cell_type": "code",
      "metadata": {
        "id": "XJHbS7ltcA3J"
      },
      "source": [
        "def analyze_text(input_text,analyzer):\n",
        "  if analyzer =='VADER':\n",
        "    result = analyser.polarity_scores(input_text)\n",
        "    score = result['compound']\n",
        "  elif analyzer =='textblob':\n",
        "    score = TextBlob(input_text).sentiment.polarity\n",
        "  else:\n",
        "    response = natural_language_understanding.analyze(text=input_text,features=Features(sentiment=SentimentOptions()),language='en').get_result()\n",
        "    score = response.get('sentiment').get('document').get('score')\n",
        "  return score \n",
        "\n"
      ],
      "execution_count": 21,
      "outputs": []
    },
    {
      "cell_type": "code",
      "metadata": {
        "id": "yoLvvYDZcCdB"
      },
      "source": [
        "total_csv['vader_score'] =total_csv['text'].apply(analyze_text,analyzer='VADER')\n",
        "total_csv['textblob'] = total_csv['text'].apply(analyze_text,analyzer='textblob')\n",
        "# total_csv['ibm_score'] = total_csv['text'].apply(analyze_text,analyzer='ibm')"
      ],
      "execution_count": 23,
      "outputs": []
    },
    {
      "cell_type": "code",
      "metadata": {
        "id": "TjIB0ag3cAIQ"
      },
      "source": [
        ""
      ],
      "execution_count": null,
      "outputs": []
    }
  ]
}